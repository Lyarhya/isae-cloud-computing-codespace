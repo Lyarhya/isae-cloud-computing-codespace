{
 "cells": [
  {
   "cell_type": "markdown",
   "metadata": {},
   "source": [
    "# Notebook d'inference\n",
    "\n",
    "Ce notebook contient une démonstration \"en python\" que nous allons séparer en deux services containerisés : Un back-end qui est un serveur qui reçoit des images et sort des prédictions, ainsi qu'un front-end qui vous permet d'envoyer des images au modèle et d'afficher les prédictions sur lesdites images,\n",
    "\n",
    "Afin de gagner du temps, les dockerfiles ont déjà été construits et sont prêts à être testés et déployés,"
   ]
  },
  {
   "cell_type": "code",
   "execution_count": null,
   "metadata": {},
   "outputs": [],
   "source": [
    "# !pip install -r requirements.txt"
   ]
  },
  {
   "cell_type": "code",
   "execution_count": null,
   "metadata": {},
   "outputs": [],
   "source": [
    "import time\n",
    "from io import BytesIO\n",
    "from pathlib import Path\n",
    "from typing import Dict\n",
    "\n",
    "import IPython.display\n",
    "import matplotlib.pyplot as plt\n",
    "import numpy as np\n",
    "import requests\n",
    "import torch\n",
    "from PIL import Image, ImageDraw, ImageFont"
   ]
  },
  {
   "cell_type": "code",
   "execution_count": null,
   "metadata": {},
   "outputs": [],
   "source": [
    "MODEL_NAMES = [\"yolov5s\", \"yolov5m\", \"yolov5l\"]"
   ]
  },
  {
   "cell_type": "code",
   "execution_count": null,
   "metadata": {},
   "outputs": [],
   "source": [
    "def load_model(model_name: str) -> Dict:\n",
    "    # Load model from torch\n",
    "    model = torch.hub.load(\"ultralytics/yolov5\", model_name, pretrained=True)\n",
    "    # Evaluation mode\n",
    "    model = model.eval()\n",
    "\n",
    "    return model"
   ]
  },
  {
   "cell_type": "code",
   "execution_count": null,
   "metadata": {},
   "outputs": [],
   "source": [
    "model = load_model(\"yolov5s\")"
   ]
  },
  {
   "cell_type": "code",
   "execution_count": null,
   "metadata": {},
   "outputs": [],
   "source": [
    "response = requests.get(\n",
    "    \"https://raw.githubusercontent.com/fchouteau/isae-cloud-computing-codespace/main/tp-deployment/cats.jpg\"\n",
    ")\n",
    "img = Image.open(BytesIO(response.content))\n",
    "\n",
    "if img.mode == \"RGBA\":\n",
    "    img = img.convert(\"RGB\")"
   ]
  },
  {
   "cell_type": "code",
   "execution_count": null,
   "metadata": {},
   "outputs": [],
   "source": [
    "# Inference\n",
    "t0 = time.time()\n",
    "predictions = model(img, size=640)  # includes NMS\n",
    "t1 = time.time()\n",
    "classes = predictions.names\n",
    "\n",
    "preds = predictions.xyxy[0].numpy()"
   ]
  },
  {
   "cell_type": "code",
   "execution_count": null,
   "metadata": {},
   "outputs": [],
   "source": [
    "preds"
   ]
  },
  {
   "cell_type": "code",
   "execution_count": null,
   "metadata": {},
   "outputs": [],
   "source": [
    "def draw_preds(image, preds, class_names):\n",
    "    image = image.copy()\n",
    "\n",
    "    colors = plt.cm.get_cmap(\"viridis\", len(class_names)).colors\n",
    "    colors = (colors[:, :3] * 255.0).astype(np.uint8)\n",
    "\n",
    "    font = list(Path(\"/usr/share/fonts\").glob(\"**/*.ttf\"))[0].name\n",
    "    font = ImageFont.truetype(\n",
    "        font=font, size=np.floor(3e-2 * image.size[1] + 0.5).astype(\"int32\")\n",
    "    )\n",
    "    thickness = (image.size[0] + image.size[1]) // 300\n",
    "\n",
    "    for i in range(len(preds)):\n",
    "        box = preds[i, :4]\n",
    "        score = float(preds[i, 4])\n",
    "        class_idx = int(preds[i, 5])\n",
    "        predicted_class = class_names[class_idx]\n",
    "\n",
    "        label = \"{} {:.2f}\".format(predicted_class, score)\n",
    "\n",
    "        draw = ImageDraw.Draw(image)\n",
    "        label_size = draw.textbbox((0, 0), label, font=font)\n",
    "        label_size = label_size[2], label_size[3]\n",
    "\n",
    "        left, top, right, bottom = box\n",
    "        top = max(0, np.floor(top + 0.5).astype(\"int32\"))\n",
    "        left = max(0, np.floor(left + 0.5).astype(\"int32\"))\n",
    "        bottom = min(image.size[1], np.floor(bottom + 0.5).astype(\"int32\"))\n",
    "        right = min(image.size[0], np.floor(right + 0.5).astype(\"int32\"))\n",
    "        print(label, (left, top), (right, bottom))\n",
    "\n",
    "        if top - label_size[1] >= 0:\n",
    "            text_origin = np.array([left, top - label_size[1]])\n",
    "        else:\n",
    "            text_origin = np.array([left, top + 1])\n",
    "\n",
    "        # My kingdom for a good redistributable image drawing library.\n",
    "        for r in range(thickness):\n",
    "            draw.rectangle(\n",
    "                [left + r, top + r, right - r, bottom - r],\n",
    "                outline=tuple(colors[class_idx]),\n",
    "            )\n",
    "        draw.rectangle(\n",
    "            [tuple(text_origin), tuple(text_origin + label_size)],\n",
    "            fill=tuple(colors[class_idx]),\n",
    "        )\n",
    "        draw.text(text_origin, label, fill=(0, 0, 0), font=font)\n",
    "        del draw\n",
    "\n",
    "    return image"
   ]
  },
  {
   "cell_type": "code",
   "execution_count": null,
   "metadata": {},
   "outputs": [],
   "source": [
    "image_with_preds = draw_preds(img, preds, classes)"
   ]
  },
  {
   "cell_type": "code",
   "execution_count": null,
   "metadata": {
    "pycharm": {
     "name": "#%%\n"
    }
   },
   "outputs": [],
   "source": [
    "IPython.display.display(image_with_preds)"
   ]
  },
  {
   "cell_type": "code",
   "execution_count": null,
   "metadata": {
    "collapsed": false,
    "jupyter": {
     "outputs_hidden": false
    },
    "pycharm": {
     "name": "#%%\n"
    }
   },
   "outputs": [],
   "source": [
    "image_with_preds.save(\"test.png\")"
   ]
  }
 ],
 "metadata": {
  "kernelspec": {
   "display_name": "Python 3 (ipykernel)",
   "language": "python",
   "name": "python3"
  },
  "language_info": {
   "codemirror_mode": {
    "name": "ipython",
    "version": 3
   },
   "file_extension": ".py",
   "mimetype": "text/x-python",
   "name": "python",
   "nbconvert_exporter": "python",
   "pygments_lexer": "ipython3",
   "version": "3.10.13"
  }
 },
 "nbformat": 4,
 "nbformat_minor": 4
}
